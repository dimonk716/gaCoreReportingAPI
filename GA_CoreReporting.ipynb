{
 "cells": [
  {
   "cell_type": "code",
   "execution_count": 1,
   "metadata": {},
   "outputs": [],
   "source": [
    "import gap\n",
    "import pandas as pd"
   ]
  },
  {
   "cell_type": "code",
   "execution_count": 2,
   "metadata": {},
   "outputs": [],
   "source": [
    "ga_report_config = {\n",
    "      \"dateRanges\": [\n",
    "        {\n",
    "          \"startDate\": \"2019-01-01\",\n",
    "          \"endDate\": \"2019-01-31\"\n",
    "        }\n",
    "      ],\n",
    "      \"metrics\": [\n",
    "        {\n",
    "          \"expression\": \"ga:transactions\"\n",
    "        },\n",
    "        {\n",
    "          \"expression\": \"ga:transactionRevenue\"\n",
    "        }\n",
    "      ],\n",
    "      \"dimensions\": [\n",
    "        {\n",
    "          \"name\": \"ga:landingPagePath\"\n",
    "        }\n",
    "      ],\n",
    "      \"viewId\": \"YOUR_VIEW_ID_HERE\", # your view id here\n",
    "      \"samplingLevel\": \"LARGE\",\n",
    "      \"pageSize\": 100000\n",
    "    }"
   ]
  },
  {
   "cell_type": "code",
   "execution_count": 3,
   "metadata": {},
   "outputs": [],
   "source": [
    "analytics = gap.initialize_analyticsreporting('YOUR_SERVICE_ACC_JSON') # your service acc json\n",
    "data, headers = gap.get_unsampled_report(analytics, ga_report_config)"
   ]
  },
  {
   "cell_type": "code",
   "execution_count": 5,
   "metadata": {},
   "outputs": [],
   "source": [
    "# data to pandas dataframe\n",
    "df = pd.DataFrame(columns=[i[3:] for i in headers], data=data)"
   ]
  },
  {
   "cell_type": "code",
   "execution_count": null,
   "metadata": {},
   "outputs": [],
   "source": []
  }
 ],
 "metadata": {
  "kernelspec": {
   "display_name": "Python 3",
   "language": "python",
   "name": "python3"
  },
  "language_info": {
   "codemirror_mode": {
    "name": "ipython",
    "version": 3
   },
   "file_extension": ".py",
   "mimetype": "text/x-python",
   "name": "python",
   "nbconvert_exporter": "python",
   "pygments_lexer": "ipython3",
   "version": "3.7.1"
  }
 },
 "nbformat": 4,
 "nbformat_minor": 2
}
